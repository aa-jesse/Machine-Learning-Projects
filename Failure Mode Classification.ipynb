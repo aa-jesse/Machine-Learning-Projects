{
 "cells": [
  {
   "cell_type": "markdown",
   "id": "820aa0f0",
   "metadata": {},
   "source": [
    "# Failure Mode Classification using Classification Models"
   ]
  },
  {
   "cell_type": "markdown",
   "id": "5dae0470",
   "metadata": {},
   "source": [
    "## Definition of Data Attributes"
   ]
  },
  {
   "cell_type": "markdown",
   "id": "b5d62926",
   "metadata": {},
   "source": [
    "1. ALF = Axial Load Factor of Column\n",
    "2. AS = Aspect Ration of Column\n",
    "3. LRI = Longitudinal Reinforcement Index\n",
    "4. TRI = Transverse Reinforcement Index\n",
    "5. CS = Cross Section of Transverse Reinforcement\n",
    "6. Cdratio = cover ratio of column\n",
    "7. Conf = confinement detail\n",
    "8. DiaSpaRatio = hoop space ratio\n",
    "9. Failure = this is the type of failure that ocuured after the application of the load(Label)"
   ]
  },
  {
   "cell_type": "markdown",
   "id": "78a6944d",
   "metadata": {},
   "source": [
    "## Data Preperation"
   ]
  },
  {
   "cell_type": "code",
   "execution_count": 5,
   "id": "56050725",
   "metadata": {},
   "outputs": [],
   "source": [
    "import pandas as pd\n",
    "import numpy as np\n",
    "import matplotlib.pyplot as plt\n",
    "import seaborn as sns"
   ]
  },
  {
   "cell_type": "code",
   "execution_count": 6,
   "id": "deefa879",
   "metadata": {},
   "outputs": [],
   "source": [
    "Data = pd.read_csv('SpiralColumnData.csv')"
   ]
  },
  {
   "cell_type": "code",
   "execution_count": 7,
   "id": "642686d9",
   "metadata": {
    "scrolled": true
   },
   "outputs": [
    {
     "data": {
      "text/html": [
       "<div>\n",
       "<style scoped>\n",
       "    .dataframe tbody tr th:only-of-type {\n",
       "        vertical-align: middle;\n",
       "    }\n",
       "\n",
       "    .dataframe tbody tr th {\n",
       "        vertical-align: top;\n",
       "    }\n",
       "\n",
       "    .dataframe thead th {\n",
       "        text-align: right;\n",
       "    }\n",
       "</style>\n",
       "<table border=\"1\" class=\"dataframe\">\n",
       "  <thead>\n",
       "    <tr style=\"text-align: right;\">\n",
       "      <th></th>\n",
       "      <th>ALF</th>\n",
       "      <th>AS</th>\n",
       "      <th>LRI</th>\n",
       "      <th>TRI</th>\n",
       "      <th>CS</th>\n",
       "      <th>Cdratio</th>\n",
       "      <th>Conf</th>\n",
       "      <th>DiaSpaRatio</th>\n",
       "      <th>Failure</th>\n",
       "    </tr>\n",
       "  </thead>\n",
       "  <tbody>\n",
       "    <tr>\n",
       "      <th>0</th>\n",
       "      <td>0.058269</td>\n",
       "      <td>0.250000</td>\n",
       "      <td>0.288738</td>\n",
       "      <td>4.134940</td>\n",
       "      <td>O</td>\n",
       "      <td>0.0404</td>\n",
       "      <td>HH</td>\n",
       "      <td>0.100000</td>\n",
       "      <td>Flexure</td>\n",
       "    </tr>\n",
       "    <tr>\n",
       "      <th>1</th>\n",
       "      <td>0.055590</td>\n",
       "      <td>0.250000</td>\n",
       "      <td>0.273986</td>\n",
       "      <td>3.944828</td>\n",
       "      <td>O</td>\n",
       "      <td>0.0404</td>\n",
       "      <td>HH</td>\n",
       "      <td>0.100000</td>\n",
       "      <td>Flexure</td>\n",
       "    </tr>\n",
       "    <tr>\n",
       "      <th>2</th>\n",
       "      <td>0.057235</td>\n",
       "      <td>0.250000</td>\n",
       "      <td>0.283612</td>\n",
       "      <td>4.452071</td>\n",
       "      <td>O</td>\n",
       "      <td>0.0404</td>\n",
       "      <td>HH</td>\n",
       "      <td>0.100000</td>\n",
       "      <td>Flexure</td>\n",
       "    </tr>\n",
       "    <tr>\n",
       "      <th>3</th>\n",
       "      <td>0.003360</td>\n",
       "      <td>0.183150</td>\n",
       "      <td>0.195963</td>\n",
       "      <td>12.253500</td>\n",
       "      <td>O</td>\n",
       "      <td>0.0404</td>\n",
       "      <td>HH</td>\n",
       "      <td>0.235294</td>\n",
       "      <td>Flexure</td>\n",
       "    </tr>\n",
       "    <tr>\n",
       "      <th>4</th>\n",
       "      <td>0.009805</td>\n",
       "      <td>0.186567</td>\n",
       "      <td>0.222450</td>\n",
       "      <td>14.011681</td>\n",
       "      <td>O</td>\n",
       "      <td>0.0432</td>\n",
       "      <td>HH</td>\n",
       "      <td>0.314286</td>\n",
       "      <td>Flexure</td>\n",
       "    </tr>\n",
       "  </tbody>\n",
       "</table>\n",
       "</div>"
      ],
      "text/plain": [
       "        ALF        AS       LRI        TRI CS  Cdratio Conf  DiaSpaRatio  \\\n",
       "0  0.058269  0.250000  0.288738   4.134940  O   0.0404   HH     0.100000   \n",
       "1  0.055590  0.250000  0.273986   3.944828  O   0.0404   HH     0.100000   \n",
       "2  0.057235  0.250000  0.283612   4.452071  O   0.0404   HH     0.100000   \n",
       "3  0.003360  0.183150  0.195963  12.253500  O   0.0404   HH     0.235294   \n",
       "4  0.009805  0.186567  0.222450  14.011681  O   0.0432   HH     0.314286   \n",
       "\n",
       "   Failure  \n",
       "0  Flexure  \n",
       "1  Flexure  \n",
       "2  Flexure  \n",
       "3  Flexure  \n",
       "4  Flexure  "
      ]
     },
     "execution_count": 7,
     "metadata": {},
     "output_type": "execute_result"
    }
   ],
   "source": [
    "Data.head()"
   ]
  },
  {
   "cell_type": "code",
   "execution_count": 8,
   "id": "76eeaa72",
   "metadata": {},
   "outputs": [
    {
     "name": "stdout",
     "output_type": "stream",
     "text": [
      "<class 'pandas.core.frame.DataFrame'>\n",
      "RangeIndex: 159 entries, 0 to 158\n",
      "Data columns (total 9 columns):\n",
      " #   Column       Non-Null Count  Dtype  \n",
      "---  ------       --------------  -----  \n",
      " 0   ALF          159 non-null    float64\n",
      " 1   AS           159 non-null    float64\n",
      " 2   LRI          159 non-null    float64\n",
      " 3   TRI          159 non-null    float64\n",
      " 4   CS           159 non-null    object \n",
      " 5   Cdratio      159 non-null    float64\n",
      " 6   Conf         159 non-null    object \n",
      " 7   DiaSpaRatio  159 non-null    float64\n",
      " 8   Failure      159 non-null    object \n",
      "dtypes: float64(6), object(3)\n",
      "memory usage: 11.3+ KB\n"
     ]
    }
   ],
   "source": [
    "Data.info()"
   ]
  },
  {
   "cell_type": "code",
   "execution_count": 9,
   "id": "b559eaf7",
   "metadata": {},
   "outputs": [
    {
     "data": {
      "text/plain": [
       "<AxesSubplot:>"
      ]
     },
     "execution_count": 9,
     "metadata": {},
     "output_type": "execute_result"
    },
    {
     "data": {
      "image/png": "[encoded data removed]",
      "text/plain": [
       "<Figure size 432x288 with 2 Axes>"
      ]
     },
     "metadata": {
      "needs_background": "light"
     },
     "output_type": "display_data"
    }
   ],
   "source": [
    "sns.heatmap(Data.corr())"
   ]
  },
  {
   "cell_type": "code",
   "execution_count": 10,
   "id": "e2151c4b",
   "metadata": {},
   "outputs": [
    {
     "data": {
      "text/plain": [
       "array([[<AxesSubplot:title={'center':'ALF'}>,\n",
       "        <AxesSubplot:title={'center':'AS'}>],\n",
       "       [<AxesSubplot:title={'center':'LRI'}>,\n",
       "        <AxesSubplot:title={'center':'TRI'}>],\n",
       "       [<AxesSubplot:title={'center':'Cdratio'}>,\n",
       "        <AxesSubplot:title={'center':'DiaSpaRatio'}>]], dtype=object)"
      ]
     },
     "execution_count": 10,
     "metadata": {},
     "output_type": "execute_result"
    },
    {
     "data": {
      "image/png": "[encoded data removed]",
      "text/plain": [
       "<Figure size 1440x1080 with 6 Axes>"
      ]
     },
     "metadata": {
      "needs_background": "light"
     },
     "output_type": "display_data"
    }
   ],
   "source": [
    "Data.hist(bins=20, figsize=(20,15))"
   ]
  },
  {
   "cell_type": "code",
   "execution_count": 11,
   "id": "62cd4b4a",
   "metadata": {},
   "outputs": [
    {
     "data": {
      "text/html": [
       "<div>\n",
       "<style scoped>\n",
       "    .dataframe tbody tr th:only-of-type {\n",
       "        vertical-align: middle;\n",
       "    }\n",
       "\n",
       "    .dataframe tbody tr th {\n",
       "        vertical-align: top;\n",
       "    }\n",
       "\n",
       "    .dataframe thead th {\n",
       "        text-align: right;\n",
       "    }\n",
       "</style>\n",
       "<table border=\"1\" class=\"dataframe\">\n",
       "  <thead>\n",
       "    <tr style=\"text-align: right;\">\n",
       "      <th></th>\n",
       "      <th>ALF</th>\n",
       "      <th>AS</th>\n",
       "      <th>LRI</th>\n",
       "      <th>TRI</th>\n",
       "      <th>Cdratio</th>\n",
       "      <th>DiaSpaRatio</th>\n",
       "    </tr>\n",
       "  </thead>\n",
       "  <tbody>\n",
       "    <tr>\n",
       "      <th>count</th>\n",
       "      <td>159.000000</td>\n",
       "      <td>159.000000</td>\n",
       "      <td>159.000000</td>\n",
       "      <td>159.000000</td>\n",
       "      <td>159.000000</td>\n",
       "      <td>159.000000</td>\n",
       "    </tr>\n",
       "    <tr>\n",
       "      <th>mean</th>\n",
       "      <td>0.144228</td>\n",
       "      <td>0.401036</td>\n",
       "      <td>0.315738</td>\n",
       "      <td>11.619807</td>\n",
       "      <td>0.059574</td>\n",
       "      <td>0.148661</td>\n",
       "    </tr>\n",
       "    <tr>\n",
       "      <th>std</th>\n",
       "      <td>0.149461</td>\n",
       "      <td>0.228076</td>\n",
       "      <td>0.149127</td>\n",
       "      <td>8.166316</td>\n",
       "      <td>0.031157</td>\n",
       "      <td>0.076315</td>\n",
       "    </tr>\n",
       "    <tr>\n",
       "      <th>min</th>\n",
       "      <td>-0.098561</td>\n",
       "      <td>0.100000</td>\n",
       "      <td>0.069260</td>\n",
       "      <td>0.833333</td>\n",
       "      <td>0.025591</td>\n",
       "      <td>0.026254</td>\n",
       "    </tr>\n",
       "    <tr>\n",
       "      <th>25%</th>\n",
       "      <td>0.047751</td>\n",
       "      <td>0.219178</td>\n",
       "      <td>0.201579</td>\n",
       "      <td>5.807946</td>\n",
       "      <td>0.041798</td>\n",
       "      <td>0.087449</td>\n",
       "    </tr>\n",
       "    <tr>\n",
       "      <th>50%</th>\n",
       "      <td>0.101345</td>\n",
       "      <td>0.333333</td>\n",
       "      <td>0.287862</td>\n",
       "      <td>11.418280</td>\n",
       "      <td>0.047541</td>\n",
       "      <td>0.141509</td>\n",
       "    </tr>\n",
       "    <tr>\n",
       "      <th>75%</th>\n",
       "      <td>0.203894</td>\n",
       "      <td>0.500000</td>\n",
       "      <td>0.426598</td>\n",
       "      <td>13.701935</td>\n",
       "      <td>0.072727</td>\n",
       "      <td>0.200000</td>\n",
       "    </tr>\n",
       "    <tr>\n",
       "      <th>max</th>\n",
       "      <td>0.738345</td>\n",
       "      <td>1.000000</td>\n",
       "      <td>0.739444</td>\n",
       "      <td>53.898679</td>\n",
       "      <td>0.160000</td>\n",
       "      <td>0.430000</td>\n",
       "    </tr>\n",
       "  </tbody>\n",
       "</table>\n",
       "</div>"
      ],
      "text/plain": [
       "              ALF          AS         LRI         TRI     Cdratio  DiaSpaRatio\n",
       "count  159.000000  159.000000  159.000000  159.000000  159.000000   159.000000\n",
       "mean     0.144228    0.401036    0.315738   11.619807    0.059574     0.148661\n",
       "std      0.149461    0.228076    0.149127    8.166316    0.031157     0.076315\n",
       "min     -0.098561    0.100000    0.069260    0.833333    0.025591     0.026254\n",
       "25%      0.047751    0.219178    0.201579    5.807946    0.041798     0.087449\n",
       "50%      0.101345    0.333333    0.287862   11.418280    0.047541     0.141509\n",
       "75%      0.203894    0.500000    0.426598   13.701935    0.072727     0.200000\n",
       "max      0.738345    1.000000    0.739444   53.898679    0.160000     0.430000"
      ]
     },
     "execution_count": 11,
     "metadata": {},
     "output_type": "execute_result"
    }
   ],
   "source": [
    "Data.describe()"
   ]
  },
  {
   "cell_type": "code",
   "execution_count": 12,
   "id": "5c520e09",
   "metadata": {},
   "outputs": [
    {
     "data": {
      "text/html": [
       "<div>\n",
       "<style scoped>\n",
       "    .dataframe tbody tr th:only-of-type {\n",
       "        vertical-align: middle;\n",
       "    }\n",
       "\n",
       "    .dataframe tbody tr th {\n",
       "        vertical-align: top;\n",
       "    }\n",
       "\n",
       "    .dataframe thead th {\n",
       "        text-align: right;\n",
       "    }\n",
       "</style>\n",
       "<table border=\"1\" class=\"dataframe\">\n",
       "  <thead>\n",
       "    <tr style=\"text-align: right;\">\n",
       "      <th></th>\n",
       "      <th>Failure</th>\n",
       "    </tr>\n",
       "  </thead>\n",
       "  <tbody>\n",
       "    <tr>\n",
       "      <th>Flexure</th>\n",
       "      <td>99</td>\n",
       "    </tr>\n",
       "    <tr>\n",
       "      <th>Flexure-shear</th>\n",
       "      <td>32</td>\n",
       "    </tr>\n",
       "    <tr>\n",
       "      <th>Shear</th>\n",
       "      <td>28</td>\n",
       "    </tr>\n",
       "  </tbody>\n",
       "</table>\n",
       "</div>"
      ],
      "text/plain": [
       "               Failure\n",
       "Flexure             99\n",
       "Flexure-shear       32\n",
       "Shear               28"
      ]
     },
     "execution_count": 12,
     "metadata": {},
     "output_type": "execute_result"
    }
   ],
   "source": [
    "data  = pd.DataFrame(Data.Failure.value_counts())\n",
    "data"
   ]
  },
  {
   "cell_type": "code",
   "execution_count": 13,
   "id": "4b2e7049",
   "metadata": {},
   "outputs": [
    {
     "data": {
      "text/plain": [
       "array([<AxesSubplot:ylabel='Failure'>], dtype=object)"
      ]
     },
     "execution_count": 13,
     "metadata": {},
     "output_type": "execute_result"
    },
    {
     "data": {
      "image/png": "[encoded data removed]",
      "text/plain": [
       "<Figure size 720x576 with 1 Axes>"
      ]
     },
     "metadata": {},
     "output_type": "display_data"
    }
   ],
   "source": [
    "data.plot.pie(autopct=\"%.1f%%\", subplots=True, figsize=(10,8))"
   ]
  },
  {
   "cell_type": "code",
   "execution_count": 14,
   "id": "347a141d",
   "metadata": {},
   "outputs": [
    {
     "data": {
      "text/plain": [
       "ALF            0\n",
       "AS             0\n",
       "LRI            0\n",
       "TRI            0\n",
       "CS             0\n",
       "Cdratio        0\n",
       "Conf           0\n",
       "DiaSpaRatio    0\n",
       "Failure        0\n",
       "dtype: int64"
      ]
     },
     "execution_count": 14,
     "metadata": {},
     "output_type": "execute_result"
    }
   ],
   "source": [
    "Data.isnull().sum()"
   ]
  },
  {
   "cell_type": "code",
   "execution_count": 15,
   "id": "241bec4a",
   "metadata": {},
   "outputs": [],
   "source": [
    "x = Data.drop('Failure', axis=1)\n",
    "y = Data['Failure']"
   ]
  },
  {
   "cell_type": "code",
   "execution_count": 16,
   "id": "b9cde1ae",
   "metadata": {},
   "outputs": [
    {
     "data": {
      "text/html": [
       "<div>\n",
       "<style scoped>\n",
       "    .dataframe tbody tr th:only-of-type {\n",
       "        vertical-align: middle;\n",
       "    }\n",
       "\n",
       "    .dataframe tbody tr th {\n",
       "        vertical-align: top;\n",
       "    }\n",
       "\n",
       "    .dataframe thead th {\n",
       "        text-align: right;\n",
       "    }\n",
       "</style>\n",
       "<table border=\"1\" class=\"dataframe\">\n",
       "  <thead>\n",
       "    <tr style=\"text-align: right;\">\n",
       "      <th></th>\n",
       "      <th>ALF</th>\n",
       "      <th>AS</th>\n",
       "      <th>LRI</th>\n",
       "      <th>TRI</th>\n",
       "      <th>Cdratio</th>\n",
       "      <th>DiaSpaRatio</th>\n",
       "      <th>CS_O</th>\n",
       "      <th>CS_S</th>\n",
       "      <th>Conf_CFB</th>\n",
       "      <th>Conf_DC</th>\n",
       "      <th>Conf_DE</th>\n",
       "      <th>Conf_HH</th>\n",
       "    </tr>\n",
       "  </thead>\n",
       "  <tbody>\n",
       "    <tr>\n",
       "      <th>0</th>\n",
       "      <td>0.058269</td>\n",
       "      <td>0.250000</td>\n",
       "      <td>0.288738</td>\n",
       "      <td>4.134940</td>\n",
       "      <td>0.040400</td>\n",
       "      <td>0.100000</td>\n",
       "      <td>1</td>\n",
       "      <td>0</td>\n",
       "      <td>0</td>\n",
       "      <td>0</td>\n",
       "      <td>0</td>\n",
       "      <td>1</td>\n",
       "    </tr>\n",
       "    <tr>\n",
       "      <th>1</th>\n",
       "      <td>0.055590</td>\n",
       "      <td>0.250000</td>\n",
       "      <td>0.273986</td>\n",
       "      <td>3.944828</td>\n",
       "      <td>0.040400</td>\n",
       "      <td>0.100000</td>\n",
       "      <td>1</td>\n",
       "      <td>0</td>\n",
       "      <td>0</td>\n",
       "      <td>0</td>\n",
       "      <td>0</td>\n",
       "      <td>1</td>\n",
       "    </tr>\n",
       "    <tr>\n",
       "      <th>2</th>\n",
       "      <td>0.057235</td>\n",
       "      <td>0.250000</td>\n",
       "      <td>0.283612</td>\n",
       "      <td>4.452071</td>\n",
       "      <td>0.040400</td>\n",
       "      <td>0.100000</td>\n",
       "      <td>1</td>\n",
       "      <td>0</td>\n",
       "      <td>0</td>\n",
       "      <td>0</td>\n",
       "      <td>0</td>\n",
       "      <td>1</td>\n",
       "    </tr>\n",
       "    <tr>\n",
       "      <th>3</th>\n",
       "      <td>0.003360</td>\n",
       "      <td>0.183150</td>\n",
       "      <td>0.195963</td>\n",
       "      <td>12.253500</td>\n",
       "      <td>0.040400</td>\n",
       "      <td>0.235294</td>\n",
       "      <td>1</td>\n",
       "      <td>0</td>\n",
       "      <td>0</td>\n",
       "      <td>0</td>\n",
       "      <td>0</td>\n",
       "      <td>1</td>\n",
       "    </tr>\n",
       "    <tr>\n",
       "      <th>4</th>\n",
       "      <td>0.009805</td>\n",
       "      <td>0.186567</td>\n",
       "      <td>0.222450</td>\n",
       "      <td>14.011681</td>\n",
       "      <td>0.043200</td>\n",
       "      <td>0.314286</td>\n",
       "      <td>1</td>\n",
       "      <td>0</td>\n",
       "      <td>0</td>\n",
       "      <td>0</td>\n",
       "      <td>0</td>\n",
       "      <td>1</td>\n",
       "    </tr>\n",
       "    <tr>\n",
       "      <th>...</th>\n",
       "      <td>...</td>\n",
       "      <td>...</td>\n",
       "      <td>...</td>\n",
       "      <td>...</td>\n",
       "      <td>...</td>\n",
       "      <td>...</td>\n",
       "      <td>...</td>\n",
       "      <td>...</td>\n",
       "      <td>...</td>\n",
       "      <td>...</td>\n",
       "      <td>...</td>\n",
       "      <td>...</td>\n",
       "    </tr>\n",
       "    <tr>\n",
       "      <th>154</th>\n",
       "      <td>0.000000</td>\n",
       "      <td>0.387860</td>\n",
       "      <td>0.151538</td>\n",
       "      <td>5.078814</td>\n",
       "      <td>0.025591</td>\n",
       "      <td>0.070866</td>\n",
       "      <td>0</td>\n",
       "      <td>0</td>\n",
       "      <td>0</td>\n",
       "      <td>0</td>\n",
       "      <td>0</td>\n",
       "      <td>0</td>\n",
       "    </tr>\n",
       "    <tr>\n",
       "      <th>155</th>\n",
       "      <td>0.000000</td>\n",
       "      <td>0.219178</td>\n",
       "      <td>0.150687</td>\n",
       "      <td>10.294803</td>\n",
       "      <td>0.036909</td>\n",
       "      <td>0.141509</td>\n",
       "      <td>0</td>\n",
       "      <td>0</td>\n",
       "      <td>0</td>\n",
       "      <td>0</td>\n",
       "      <td>0</td>\n",
       "      <td>0</td>\n",
       "    </tr>\n",
       "    <tr>\n",
       "      <th>156</th>\n",
       "      <td>0.002161</td>\n",
       "      <td>0.500000</td>\n",
       "      <td>0.207195</td>\n",
       "      <td>0.872483</td>\n",
       "      <td>0.030512</td>\n",
       "      <td>0.048228</td>\n",
       "      <td>0</td>\n",
       "      <td>0</td>\n",
       "      <td>0</td>\n",
       "      <td>0</td>\n",
       "      <td>0</td>\n",
       "      <td>0</td>\n",
       "    </tr>\n",
       "    <tr>\n",
       "      <th>157</th>\n",
       "      <td>0.002403</td>\n",
       "      <td>0.500000</td>\n",
       "      <td>0.230388</td>\n",
       "      <td>0.970149</td>\n",
       "      <td>0.030512</td>\n",
       "      <td>0.048228</td>\n",
       "      <td>0</td>\n",
       "      <td>0</td>\n",
       "      <td>0</td>\n",
       "      <td>0</td>\n",
       "      <td>0</td>\n",
       "      <td>0</td>\n",
       "    </tr>\n",
       "    <tr>\n",
       "      <th>158</th>\n",
       "      <td>0.002064</td>\n",
       "      <td>0.500000</td>\n",
       "      <td>0.190749</td>\n",
       "      <td>0.833333</td>\n",
       "      <td>0.030512</td>\n",
       "      <td>0.048228</td>\n",
       "      <td>0</td>\n",
       "      <td>0</td>\n",
       "      <td>0</td>\n",
       "      <td>0</td>\n",
       "      <td>0</td>\n",
       "      <td>0</td>\n",
       "    </tr>\n",
       "  </tbody>\n",
       "</table>\n",
       "<p>159 rows × 12 columns</p>\n",
       "</div>"
      ],
      "text/plain": [
       "          ALF        AS       LRI        TRI   Cdratio  DiaSpaRatio  CS_O  \\\n",
       "0    0.058269  0.250000  0.288738   4.134940  0.040400     0.100000     1   \n",
       "1    0.055590  0.250000  0.273986   3.944828  0.040400     0.100000     1   \n",
       "2    0.057235  0.250000  0.283612   4.452071  0.040400     0.100000     1   \n",
       "3    0.003360  0.183150  0.195963  12.253500  0.040400     0.235294     1   \n",
       "4    0.009805  0.186567  0.222450  14.011681  0.043200     0.314286     1   \n",
       "..        ...       ...       ...        ...       ...          ...   ...   \n",
       "154  0.000000  0.387860  0.151538   5.078814  0.025591     0.070866     0   \n",
       "155  0.000000  0.219178  0.150687  10.294803  0.036909     0.141509     0   \n",
       "156  0.002161  0.500000  0.207195   0.872483  0.030512     0.048228     0   \n",
       "157  0.002403  0.500000  0.230388   0.970149  0.030512     0.048228     0   \n",
       "158  0.002064  0.500000  0.190749   0.833333  0.030512     0.048228     0   \n",
       "\n",
       "     CS_S  Conf_CFB  Conf_DC  Conf_DE  Conf_HH  \n",
       "0       0         0        0        0        1  \n",
       "1       0         0        0        0        1  \n",
       "2       0         0        0        0        1  \n",
       "3       0         0        0        0        1  \n",
       "4       0         0        0        0        1  \n",
       "..    ...       ...      ...      ...      ...  \n",
       "154     0         0        0        0        0  \n",
       "155     0         0        0        0        0  \n",
       "156     0         0        0        0        0  \n",
       "157     0         0        0        0        0  \n",
       "158     0         0        0        0        0  \n",
       "\n",
       "[159 rows x 12 columns]"
      ]
     },
     "execution_count": 16,
     "metadata": {},
     "output_type": "execute_result"
    }
   ],
   "source": [
    "x = pd.get_dummies(x, drop_first=True)\n",
    "x"
   ]
  },
  {
   "cell_type": "code",
   "execution_count": 17,
   "id": "6aee3e5e",
   "metadata": {},
   "outputs": [],
   "source": [
    "from sklearn.model_selection import train_test_split\n",
    "x_train,x_test,y_train,y_test = train_test_split(x, y, test_size = 0.2)"
   ]
  },
  {
   "cell_type": "markdown",
   "id": "49da9999",
   "metadata": {},
   "source": [
    "## KNN Algorithm"
   ]
  },
  {
   "cell_type": "code",
   "execution_count": 18,
   "id": "0538b044",
   "metadata": {},
   "outputs": [
    {
     "data": {
      "text/plain": [
       "KNeighborsClassifier()"
      ]
     },
     "execution_count": 18,
     "metadata": {},
     "output_type": "execute_result"
    }
   ],
   "source": [
    "from sklearn.neighbors import KNeighborsClassifier\n",
    "classifier = KNeighborsClassifier(n_neighbors=5)\n",
    "classifier.fit(x_train, y_train)"
   ]
  },
  {
   "cell_type": "code",
   "execution_count": 19,
   "id": "be9b51f6",
   "metadata": {},
   "outputs": [
    {
     "name": "stdout",
     "output_type": "stream",
     "text": [
      "['Flexure' 'Shear' 'Flexure' 'Flexure' 'Flexure' 'Flexure' 'Flexure'\n",
      " 'Shear' 'Flexure-shear' 'Flexure' 'Flexure' 'Flexure' 'Flexure-shear'\n",
      " 'Shear' 'Flexure' 'Flexure-shear' 'Flexure' 'Flexure' 'Flexure' 'Flexure'\n",
      " 'Flexure-shear' 'Flexure' 'Flexure' 'Flexure' 'Shear' 'Flexure' 'Flexure'\n",
      " 'Flexure' 'Flexure' 'Flexure' 'Flexure' 'Flexure']\n"
     ]
    }
   ],
   "source": [
    "y_pred = classifier.predict(x_test)\n",
    "print(y_pred)"
   ]
  },
  {
   "cell_type": "markdown",
   "id": "a427b7be",
   "metadata": {},
   "source": [
    "## Decision Trees Algorithm"
   ]
  },
  {
   "cell_type": "code",
   "execution_count": 20,
   "id": "d1cc13b3",
   "metadata": {},
   "outputs": [],
   "source": [
    "from sklearn import tree\n",
    "rec = tree.DecisionTreeClassifier(max_depth = 5)\n",
    "recColumn_model = rec.fit(x_train, y_train)"
   ]
  },
  {
   "cell_type": "code",
   "execution_count": 21,
   "id": "7fa9bc72",
   "metadata": {},
   "outputs": [
    {
     "data": {
      "text/plain": [
       "[Text(345.2625, 996.6, 'X[1] <= 0.337\\ngini = 0.535\\nsamples = 127\\nvalue = [80, 24, 23]'),\n",
       " Text(303.4125, 815.4000000000001, 'gini = 0.0\\nsamples = 67\\nvalue = [67, 0, 0]'),\n",
       " Text(387.1125, 815.4000000000001, 'X[2] <= 0.392\\ngini = 0.646\\nsamples = 60\\nvalue = [13, 24, 23]'),\n",
       " Text(167.4, 634.2, 'X[0] <= 0.157\\ngini = 0.531\\nsamples = 25\\nvalue = [8, 15, 2]'),\n",
       " Text(83.7, 453.0, 'X[3] <= 1.433\\ngini = 0.219\\nsamples = 16\\nvalue = [0, 14, 2]'),\n",
       " Text(41.85, 271.79999999999995, 'gini = 0.0\\nsamples = 2\\nvalue = [0, 0, 2]'),\n",
       " Text(125.55000000000001, 271.79999999999995, 'gini = 0.0\\nsamples = 14\\nvalue = [0, 14, 0]'),\n",
       " Text(251.10000000000002, 453.0, 'X[1] <= 0.751\\ngini = 0.198\\nsamples = 9\\nvalue = [8, 1, 0]'),\n",
       " Text(209.25, 271.79999999999995, 'gini = 0.0\\nsamples = 8\\nvalue = [8, 0, 0]'),\n",
       " Text(292.95, 271.79999999999995, 'gini = 0.0\\nsamples = 1\\nvalue = [0, 1, 0]'),\n",
       " Text(606.825, 634.2, 'X[1] <= 0.537\\ngini = 0.553\\nsamples = 35\\nvalue = [5, 9, 21]'),\n",
       " Text(460.35, 453.0, 'X[3] <= 5.806\\ngini = 0.622\\nsamples = 14\\nvalue = [3, 7, 4]'),\n",
       " Text(376.65000000000003, 271.79999999999995, 'X[2] <= 0.414\\ngini = 0.444\\nsamples = 6\\nvalue = [0, 2, 4]'),\n",
       " Text(334.8, 90.59999999999991, 'gini = 0.0\\nsamples = 2\\nvalue = [0, 2, 0]'),\n",
       " Text(418.5, 90.59999999999991, 'gini = 0.0\\nsamples = 4\\nvalue = [0, 0, 4]'),\n",
       " Text(544.0500000000001, 271.79999999999995, 'X[8] <= 0.5\\ngini = 0.469\\nsamples = 8\\nvalue = [3, 5, 0]'),\n",
       " Text(502.20000000000005, 90.59999999999991, 'gini = 0.375\\nsamples = 4\\nvalue = [3, 1, 0]'),\n",
       " Text(585.9, 90.59999999999991, 'gini = 0.0\\nsamples = 4\\nvalue = [0, 4, 0]'),\n",
       " Text(753.3000000000001, 453.0, 'X[3] <= 16.033\\ngini = 0.327\\nsamples = 21\\nvalue = [2, 2, 17]'),\n",
       " Text(711.45, 271.79999999999995, 'X[5] <= 0.186\\ngini = 0.188\\nsamples = 19\\nvalue = [0, 2, 17]'),\n",
       " Text(669.6, 90.59999999999991, 'gini = 0.105\\nsamples = 18\\nvalue = [0, 1, 17]'),\n",
       " Text(753.3000000000001, 90.59999999999991, 'gini = 0.0\\nsamples = 1\\nvalue = [0, 1, 0]'),\n",
       " Text(795.15, 271.79999999999995, 'gini = 0.0\\nsamples = 2\\nvalue = [2, 0, 0]')]"
      ]
     },
     "execution_count": 21,
     "metadata": {},
     "output_type": "execute_result"
    },
    {
     "data": {
      "image/png": "[encoded data removed]",
      "text/plain": [
       "<Figure size 1080x1440 with 1 Axes>"
      ]
     },
     "metadata": {
      "needs_background": "light"
     },
     "output_type": "display_data"
    }
   ],
   "source": [
    "plt.figure(figsize = (15,20))\n",
    "tree.plot_tree(recColumn_model,filled = True)"
   ]
  },
  {
   "cell_type": "markdown",
   "id": "18a9db04",
   "metadata": {},
   "source": [
    "## Support Vector Machine Algorithm"
   ]
  },
  {
   "cell_type": "code",
   "execution_count": 22,
   "id": "fa0442bd",
   "metadata": {},
   "outputs": [
    {
     "name": "stdout",
     "output_type": "stream",
     "text": [
      "['Flexure-shear' 'Flexure-shear' 'Flexure-shear' 'Flexure' 'Flexure'\n",
      " 'Flexure' 'Flexure' 'Flexure-shear' 'Flexure-shear' 'Flexure' 'Flexure'\n",
      " 'Flexure' 'Flexure' 'Shear' 'Flexure' 'Flexure-shear' 'Flexure' 'Flexure'\n",
      " 'Flexure' 'Flexure' 'Shear' 'Flexure-shear' 'Flexure' 'Flexure-shear'\n",
      " 'Shear' 'Flexure' 'Flexure' 'Shear' 'Flexure-shear' 'Flexure' 'Flexure'\n",
      " 'Flexure']\n"
     ]
    }
   ],
   "source": [
    "from sklearn import svm\n",
    "cls = svm.SVC(kernel=\"linear\")\n",
    "cls.fit(x_train,y_train)\n",
    "pred = cls.predict(x_test)\n",
    "print(pred)"
   ]
  },
  {
   "cell_type": "code",
   "execution_count": 23,
   "id": "6bf1666e",
   "metadata": {},
   "outputs": [],
   "source": [
    "from sklearn.model_selection import train_test_split\n",
    "x_train,x_test,y_train,y_test = train_test_split(x, y, test_size = 0.2)"
   ]
  },
  {
   "cell_type": "markdown",
   "id": "1f3abf64",
   "metadata": {},
   "source": [
    "## Multnomial Logistic Regression Algorithm"
   ]
  },
  {
   "cell_type": "code",
   "execution_count": 24,
   "id": "4e1dca82",
   "metadata": {},
   "outputs": [
    {
     "name": "stdout",
     "output_type": "stream",
     "text": [
      "['Flexure' 'Flexure' 'Flexure' 'Flexure' 'Shear' 'Flexure' 'Flexure'\n",
      " 'Flexure-shear' 'Flexure-shear' 'Flexure' 'Flexure-shear' 'Flexure'\n",
      " 'Flexure' 'Flexure' 'Flexure' 'Flexure' 'Flexure' 'Flexure' 'Flexure'\n",
      " 'Flexure' 'Shear' 'Flexure' 'Shear' 'Flexure' 'Flexure' 'Flexure'\n",
      " 'Flexure-shear' 'Flexure-shear' 'Flexure' 'Flexure' 'Shear' 'Shear']\n"
     ]
    }
   ],
   "source": [
    "from sklearn.linear_model import LogisticRegression\n",
    "from sklearn.model_selection import RepeatedStratifiedKFold\n",
    "model = LogisticRegression(multi_class='multinomial', solver='lbfgs', max_iter = 1000 )\n",
    "model.fit(x_train,y_train)\n",
    "model_pred = model.predict(x_test)\n",
    "print(model_pred)"
   ]
  },
  {
   "cell_type": "markdown",
   "id": "00b77df4",
   "metadata": {},
   "source": [
    "## Random Forest Algorithm"
   ]
  },
  {
   "cell_type": "code",
   "execution_count": 25,
   "id": "345a5660",
   "metadata": {},
   "outputs": [
    {
     "name": "stdout",
     "output_type": "stream",
     "text": [
      "['Flexure' 'Flexure' 'Flexure' 'Flexure' 'Shear' 'Flexure' 'Shear'\n",
      " 'Flexure-shear' 'Shear' 'Flexure' 'Flexure-shear' 'Flexure-shear'\n",
      " 'Flexure' 'Flexure' 'Flexure' 'Flexure' 'Flexure' 'Flexure' 'Flexure'\n",
      " 'Flexure' 'Shear' 'Flexure' 'Shear' 'Flexure' 'Flexure' 'Flexure'\n",
      " 'Flexure-shear' 'Flexure-shear' 'Flexure' 'Flexure' 'Shear' 'Shear']\n"
     ]
    }
   ],
   "source": [
    "from sklearn.ensemble import RandomForestClassifier\n",
    "model = RandomForestClassifier(n_estimators=1000, bootstrap=True, max_features='sqrt' )\n",
    "model.fit(x_train,y_train)\n",
    "model_pred = model.predict(x_test)\n",
    "print(model_pred)"
   ]
  },
  {
   "cell_type": "markdown",
   "id": "42ba5de1",
   "metadata": {},
   "source": [
    "# HyperParameter Tuning"
   ]
  },
  {
   "cell_type": "code",
   "execution_count": 45,
   "id": "2276e734",
   "metadata": {},
   "outputs": [],
   "source": [
    "model_parameters = {\n",
    "    'Forest':{ 'model':\n",
    "               RandomForestClassifier(),\n",
    "              'params': {\n",
    "                  'n_estimators': [10, 100, 1000]\n",
    "              }\n",
    "        \n",
    "    },\n",
    "    'Regression':{ 'model':\n",
    "                  LogisticRegression( max_iter= 1000 ),\n",
    "                  'params': {\n",
    "                      'solver': ['lbfgs'],\n",
    "                      \n",
    "                                        }\n",
    "        \n",
    "    },\n",
    "    'svm': { 'model':\n",
    "               svm.SVC(gamma = 'scale'),\n",
    "              'params': {\n",
    "                  'kernel': ['rbf','linear']\n",
    "              }\n",
    "    },\n",
    "    'KNN': { 'model':\n",
    "               KNeighborsClassifier(n_neighbors=5),\n",
    "             'params': {\n",
    "        \n",
    "        }   \n",
    "    },\n",
    "      'Tree': {'model':\n",
    "            tree.DecisionTreeClassifier(),\n",
    "    'params': {\n",
    "        'max_depth':[2,5,10]\n",
    "        } \n",
    "              }       \n",
    "}"
   ]
  },
  {
   "cell_type": "code",
   "execution_count": 46,
   "id": "3ee3fdab",
   "metadata": {},
   "outputs": [
    {
     "data": {
      "text/html": [
       "<div>\n",
       "<style scoped>\n",
       "    .dataframe tbody tr th:only-of-type {\n",
       "        vertical-align: middle;\n",
       "    }\n",
       "\n",
       "    .dataframe tbody tr th {\n",
       "        vertical-align: top;\n",
       "    }\n",
       "\n",
       "    .dataframe thead th {\n",
       "        text-align: right;\n",
       "    }\n",
       "</style>\n",
       "<table border=\"1\" class=\"dataframe\">\n",
       "  <thead>\n",
       "    <tr style=\"text-align: right;\">\n",
       "      <th></th>\n",
       "      <th>model</th>\n",
       "      <th>best_score</th>\n",
       "      <th>best_params</th>\n",
       "    </tr>\n",
       "  </thead>\n",
       "  <tbody>\n",
       "    <tr>\n",
       "      <th>0</th>\n",
       "      <td>Forest</td>\n",
       "      <td>0.764</td>\n",
       "      <td>{'kernel': 'linear'}</td>\n",
       "    </tr>\n",
       "    <tr>\n",
       "      <th>1</th>\n",
       "      <td>Regression</td>\n",
       "      <td>0.764</td>\n",
       "      <td>{'kernel': 'linear'}</td>\n",
       "    </tr>\n",
       "    <tr>\n",
       "      <th>2</th>\n",
       "      <td>svm</td>\n",
       "      <td>0.764</td>\n",
       "      <td>{'kernel': 'linear'}</td>\n",
       "    </tr>\n",
       "    <tr>\n",
       "      <th>3</th>\n",
       "      <td>KNN</td>\n",
       "      <td>0.764</td>\n",
       "      <td>{'kernel': 'linear'}</td>\n",
       "    </tr>\n",
       "    <tr>\n",
       "      <th>4</th>\n",
       "      <td>Tree</td>\n",
       "      <td>0.764</td>\n",
       "      <td>{'kernel': 'linear'}</td>\n",
       "    </tr>\n",
       "  </tbody>\n",
       "</table>\n",
       "</div>"
      ],
      "text/plain": [
       "        model  best_score           best_params\n",
       "0      Forest       0.764  {'kernel': 'linear'}\n",
       "1  Regression       0.764  {'kernel': 'linear'}\n",
       "2         svm       0.764  {'kernel': 'linear'}\n",
       "3         KNN       0.764  {'kernel': 'linear'}\n",
       "4        Tree       0.764  {'kernel': 'linear'}"
      ]
     },
     "execution_count": 46,
     "metadata": {},
     "output_type": "execute_result"
    }
   ],
   "source": [
    "scores = []\n",
    "from sklearn.model_selection import GridSearchCV\n",
    "for model_name, mp in model_parameters.items():\n",
    "    model = GridSearchCV(mp['model'], mp['params'], cv =5,return_train_score = False)\n",
    "    model.fit(x_train, y_train)\n",
    "    scores.append({\n",
    "        'model': model_name,\n",
    "        'best_score': column.best_score_,\n",
    "        'best_params': column.best_params_\n",
    "        \n",
    "    })\n",
    "df = pd.DataFrame(scores, columns = ['model', 'best_score','best_params' ])  \n",
    "df"
   ]
  },
  {
   "cell_type": "code",
   "execution_count": null,
   "id": "651c7cc7",
   "metadata": {},
   "outputs": [],
   "source": []
  }
 ],
 "metadata": {
  "kernelspec": {
   "display_name": "Python 3",
   "language": "python",
   "name": "python3"
  },
  "language_info": {
   "codemirror_mode": {
    "name": "ipython",
    "version": 3
   },
   "file_extension": ".py",
   "mimetype": "text/x-python",
   "name": "python",
   "nbconvert_exporter": "python",
   "pygments_lexer": "ipython3",
   "version": "3.8.8"
  }
 },
 "nbformat": 4,
 "nbformat_minor": 5
}
